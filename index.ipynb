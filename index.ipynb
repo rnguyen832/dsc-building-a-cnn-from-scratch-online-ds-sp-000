{
 "cells": [
  {
   "cell_type": "markdown",
   "metadata": {},
   "source": [
    "# Building a CNN from Scratch - Lab\n",
    "\n",
    "## Introduction\n",
    "\n",
    "Now that you have background knowledge regarding how CNNs work and how to build them using Keras, its time to practice those skills a little more independently in order to build a CNN on your own to solve a image recognition problem. In this lab, you'll practice building an image classifier from start to finish using a CNN.  \n",
    "\n",
    "## Objectives\n",
    "\n",
    "In this lab you will: \n",
    "\n",
    "- Load images from a hierarchical file structure using an image datagenerator \n",
    "- Apply data augmentation to image files before training a neural network \n",
    "- Build a CNN using Keras \n",
    "- Visualize and evaluate the performance of CNN models \n",
    "\n",
    "## Loading the Images\n",
    "\n",
    "The data for this lab concerns lung xray images for pneumonia. The original dataset is from Kaggle. We have downsampled this dataset in order to reduce training time for you when you design and fit your model to the data. ⏰ It is anticipated that this process will take approximately one hour to run on a standard machine, although times will vary depending on your particular computer and set up. At the end of this lab, you are welcome to try training on the complete dataset and observe the impact on the model's overall accuracy. \n",
    "\n",
    "You can find the initial downsampled dataset in a subdirectory, **chest_xray**, of this repository. "
   ]
  },
  {
   "cell_type": "code",
   "execution_count": 1,
   "metadata": {},
   "outputs": [
    {
     "name": "stderr",
     "output_type": "stream",
     "text": [
      "Using TensorFlow backend.\n"
     ]
    }
   ],
   "source": [
    "from keras.preprocessing.image import ImageDataGenerator\n",
    "from keras import layers\n",
    "from keras import models\n",
    "from keras import optimizers\n",
    "import datetime"
   ]
  },
  {
   "cell_type": "code",
   "execution_count": 2,
   "metadata": {},
   "outputs": [
    {
     "name": "stdout",
     "output_type": "stream",
     "text": [
      "Found 1738 images belonging to 2 classes.\n",
      "Found 4 images belonging to 2 classes.\n"
     ]
    }
   ],
   "source": [
    "# Load the images; be sure to also preprocess these into tensors \n",
    "train_dir = 'chest_xray_downsampled/train'\n",
    "validation_dir = 'chest_xray_downsampled/val/'\n",
    "test_dir = 'chest_xray_downsampled/test/' \n",
    "\n",
    "idg_train = ImageDataGenerator(rescale=1./255)\n",
    "idg_val = ImageDataGenerator(rescale=1./255)\n",
    "\n",
    "train_gen = idg_train.flow_from_directory(train_dir, \n",
    "                                          target_size=(150, 150), \n",
    "                                          batch_size=20, \n",
    "                                          class_mode=\"binary\")\n",
    "\n",
    "val_gen = idg_val.flow_from_directory(validation_dir, \n",
    "                                      target_size=(150, 150), \n",
    "                                      batch_size=20, \n",
    "                                      class_mode=\"binary\")"
   ]
  },
  {
   "cell_type": "markdown",
   "metadata": {},
   "source": [
    "## Designing the Model\n",
    "\n",
    "Now it's time to design your CNN using Keras! Remember a few things when doing this: \n",
    "\n",
    "- You should alternate convolutional and pooling layers\n",
    "- You should have later layers have a larger number of parameters in order to detect more abstract patterns\n",
    "- Add some final dense layers to add a classifier to the convolutional base \n",
    "- Compile this model "
   ]
  },
  {
   "cell_type": "code",
   "execution_count": 3,
   "metadata": {},
   "outputs": [],
   "source": [
    "# Your code here; design and compile the model\n",
    "from keras.layers import Conv2D, MaxPooling2D, Flatten, Dense\n",
    "\n",
    "model = models.Sequential()\n",
    "\n",
    "model.add(Conv2D(filters=32, \n",
    "                 kernel_size=(3, 3), \n",
    "                 activation=\"relu\", \n",
    "                 input_shape=(150, 150, 3)))\n",
    "model.add(MaxPooling2D((2, 2)))\n",
    "\n",
    "model.add(Conv2D(filters=64, \n",
    "                 kernel_size=(3, 3), \n",
    "                 activation=\"relu\", \n",
    "                 input_shape=(150, 150, 3)))\n",
    "model.add(MaxPooling2D((2, 2)))\n",
    "\n",
    "model.add(Conv2D(filters=128, \n",
    "                 kernel_size=(3, 3), \n",
    "                 activation=\"relu\", \n",
    "                 input_shape=(150, 150, 3)))\n",
    "model.add(MaxPooling2D((2, 2)))\n",
    "\n",
    "model.add(Conv2D(filters=128, \n",
    "                 kernel_size=(3, 3), \n",
    "                 activation=\"relu\", \n",
    "                 input_shape=(150, 150, 3)))\n",
    "model.add(MaxPooling2D((2, 2)))\n",
    "\n",
    "model.add(Flatten())\n",
    "model.add(Dense(512, activation=\"relu\"))\n",
    "model.add(Dense(1, activation=\"sigmoid\"))\n",
    "\n",
    "model.compile(loss=\"binary_crossentropy\", \n",
    "              optimizer=optimizers.RMSprop(1e-4), \n",
    "              metrics=[\"accuracy\"])"
   ]
  },
  {
   "cell_type": "markdown",
   "metadata": {},
   "source": [
    "## Training and Evaluating the Model\n",
    "\n",
    "Remember that training deep networks is resource intensive: depending on the size of the data, even a CNN with 3-4 successive convolutional and pooling layers is apt to take a hours to train on a high end laptop. Using 30 epochs and 8 layers (alternating between convolutional and pooling), our model took about 40 minutes to run on a year old macbook pro.\n",
    "\n",
    "\n",
    "If you are concerned with runtime, you may want to set your model to run the training epochs overnight.  \n",
    "\n",
    "**If you are going to run this process overnight, be sure to also script code for the following questions concerning data augmentation. Check your code twice (or more) and then set the notebook to run all, or something equivalent to have them train overnight.** "
   ]
  },
  {
   "cell_type": "code",
   "execution_count": 4,
   "metadata": {},
   "outputs": [
    {
     "name": "stdout",
     "output_type": "stream",
     "text": [
      "Epoch 1/30\n",
      "100/100 [==============================] - 42s 422ms/step - loss: 0.4836 - accuracy: 0.7858 - val_loss: 0.6673 - val_accuracy: 0.7500\n",
      "Epoch 2/30\n",
      "100/100 [==============================] - 39s 391ms/step - loss: 0.2582 - accuracy: 0.8948 - val_loss: 1.0015 - val_accuracy: 0.5000\n",
      "Epoch 3/30\n",
      "100/100 [==============================] - 39s 394ms/step - loss: 0.1695 - accuracy: 0.9329 - val_loss: 1.5189 - val_accuracy: 0.5000\n",
      "Epoch 4/30\n",
      "100/100 [==============================] - 40s 398ms/step - loss: 0.1478 - accuracy: 0.9344 - val_loss: 2.0619 - val_accuracy: 0.5000\n",
      "Epoch 5/30\n",
      "100/100 [==============================] - 40s 401ms/step - loss: 0.1182 - accuracy: 0.9565 - val_loss: 0.4405 - val_accuracy: 0.7500\n",
      "Epoch 6/30\n",
      "100/100 [==============================] - 40s 405ms/step - loss: 0.1037 - accuracy: 0.9595 - val_loss: 0.3900 - val_accuracy: 0.7500\n",
      "Epoch 7/30\n",
      "100/100 [==============================] - 41s 411ms/step - loss: 0.0868 - accuracy: 0.9670 - val_loss: 0.4895 - val_accuracy: 0.7500\n",
      "Epoch 8/30\n",
      "100/100 [==============================] - 40s 397ms/step - loss: 0.0815 - accuracy: 0.9675 - val_loss: 1.4410 - val_accuracy: 0.7500\n",
      "Epoch 9/30\n",
      "100/100 [==============================] - 39s 394ms/step - loss: 0.0786 - accuracy: 0.9710 - val_loss: 0.8544 - val_accuracy: 0.7500\n",
      "Epoch 10/30\n",
      "100/100 [==============================] - 39s 388ms/step - loss: 0.0706 - accuracy: 0.9729 - val_loss: 1.1161 - val_accuracy: 0.7500\n",
      "Epoch 11/30\n",
      "100/100 [==============================] - 39s 388ms/step - loss: 0.0493 - accuracy: 0.9835 - val_loss: 0.7761 - val_accuracy: 0.7500\n",
      "Epoch 12/30\n",
      "100/100 [==============================] - 40s 398ms/step - loss: 0.0531 - accuracy: 0.9795 - val_loss: 0.6655 - val_accuracy: 0.7500\n",
      "Epoch 13/30\n",
      "100/100 [==============================] - 40s 404ms/step - loss: 0.0467 - accuracy: 0.9830 - val_loss: 1.2632 - val_accuracy: 0.7500\n",
      "Epoch 14/30\n",
      "100/100 [==============================] - 41s 414ms/step - loss: 0.0407 - accuracy: 0.9860 - val_loss: 0.7559 - val_accuracy: 0.7500\n",
      "Epoch 15/30\n",
      "100/100 [==============================] - 39s 391ms/step - loss: 0.0368 - accuracy: 0.9880 - val_loss: 1.3487 - val_accuracy: 0.7500\n",
      "Epoch 16/30\n",
      "100/100 [==============================] - 40s 398ms/step - loss: 0.0338 - accuracy: 0.9880 - val_loss: 1.7992 - val_accuracy: 0.5000\n",
      "Epoch 17/30\n",
      "100/100 [==============================] - 39s 391ms/step - loss: 0.0320 - accuracy: 0.9895 - val_loss: 1.4653 - val_accuracy: 0.7500\n",
      "Epoch 18/30\n",
      "100/100 [==============================] - 39s 393ms/step - loss: 0.0265 - accuracy: 0.9915 - val_loss: 1.4744 - val_accuracy: 0.7500\n",
      "Epoch 19/30\n",
      "100/100 [==============================] - 40s 403ms/step - loss: 0.0203 - accuracy: 0.9930 - val_loss: 0.4201 - val_accuracy: 0.7500\n",
      "Epoch 20/30\n",
      "100/100 [==============================] - 41s 409ms/step - loss: 0.0204 - accuracy: 0.9925 - val_loss: 0.6075 - val_accuracy: 0.7500\n",
      "Epoch 21/30\n",
      "100/100 [==============================] - 41s 414ms/step - loss: 0.0171 - accuracy: 0.9945 - val_loss: 2.0649 - val_accuracy: 0.5000\n",
      "Epoch 22/30\n",
      "100/100 [==============================] - 39s 395ms/step - loss: 0.0185 - accuracy: 0.9940 - val_loss: 1.6786 - val_accuracy: 0.7500\n",
      "Epoch 23/30\n",
      "100/100 [==============================] - 39s 393ms/step - loss: 0.0129 - accuracy: 0.9960 - val_loss: 1.8229 - val_accuracy: 0.7500\n",
      "Epoch 24/30\n",
      "100/100 [==============================] - 40s 395ms/step - loss: 0.0100 - accuracy: 0.9960 - val_loss: 1.9580 - val_accuracy: 0.5000\n",
      "Epoch 25/30\n",
      "100/100 [==============================] - 40s 401ms/step - loss: 0.0104 - accuracy: 0.9975 - val_loss: 2.7987 - val_accuracy: 0.7500\n",
      "Epoch 26/30\n",
      "100/100 [==============================] - 40s 404ms/step - loss: 0.0089 - accuracy: 0.9975 - val_loss: 1.5473 - val_accuracy: 0.7500\n",
      "Epoch 27/30\n",
      "100/100 [==============================] - 41s 410ms/step - loss: 0.0072 - accuracy: 0.9975 - val_loss: 1.8144 - val_accuracy: 0.7500\n",
      "Epoch 28/30\n",
      "100/100 [==============================] - 39s 389ms/step - loss: 0.0034 - accuracy: 0.9990 - val_loss: 1.4243 - val_accuracy: 0.7500\n",
      "Epoch 29/30\n",
      "100/100 [==============================] - 39s 392ms/step - loss: 0.0048 - accuracy: 0.9995 - val_loss: 1.9320 - val_accuracy: 0.7500\n",
      "Epoch 30/30\n",
      "100/100 [==============================] - 39s 385ms/step - loss: 0.0095 - accuracy: 0.9960 - val_loss: 0.2243 - val_accuracy: 0.7500\n"
     ]
    }
   ],
   "source": [
    "# Set the model to train \n",
    "# ⏰ This cell may take several minutes to run \n",
    "history = model.fit_generator(train_gen, \n",
    "                              steps_per_epoch=100, \n",
    "                              epochs=30, \n",
    "                              validation_data=val_gen, \n",
    "                              validation_steps=50)"
   ]
  },
  {
   "cell_type": "code",
   "execution_count": 5,
   "metadata": {},
   "outputs": [
    {
     "data": {
      "image/png": "[encoded data removed]",
      "text/plain": [
       "<Figure size 432x288 with 1 Axes>"
      ]
     },
     "metadata": {
      "needs_background": "light"
     },
     "output_type": "display_data"
    },
    {
     "data": {
      "image/png": "[encoded data removed]",
      "text/plain": [
       "<Figure size 432x288 with 1 Axes>"
      ]
     },
     "metadata": {
      "needs_background": "light"
     },
     "output_type": "display_data"
    }
   ],
   "source": [
    "# Plot history\n",
    "import matplotlib.pyplot as plt\n",
    "%matplotlib inline\n",
    "\n",
    "h = history.history\n",
    "acc = h[\"accuracy\"]\n",
    "val_acc = h[\"val_accuracy\"]\n",
    "loss = h[\"loss\"]\n",
    "val_loss = h[\"val_loss\"]\n",
    "\n",
    "plt.plot(acc)\n",
    "plt.plot(val_acc)\n",
    "plt.legend(['Train set', 'Validation set'])\n",
    "plt.xlabel(\"Epochs\")\n",
    "plt.ylabel(\"Accuracy\")\n",
    "plt.show();\n",
    "\n",
    "plt.plot(loss)\n",
    "plt.plot(val_loss)\n",
    "plt.legend(['Train set', 'Validation set'])\n",
    "plt.xlabel(\"Epochs\")\n",
    "plt.ylabel(\"Loss\")\n",
    "plt.show();"
   ]
  },
  {
   "cell_type": "markdown",
   "metadata": {},
   "source": [
    "## Save the Model"
   ]
  },
  {
   "cell_type": "code",
   "execution_count": 6,
   "metadata": {},
   "outputs": [],
   "source": [
    "# Your code here; save the model for future reference\n",
    "model.save(\"chest_xray_downsampled_data.h5\")"
   ]
  },
  {
   "cell_type": "markdown",
   "metadata": {},
   "source": [
    "## Data Augmentation\n",
    "\n",
    "Recall that data augmentation is typically always a necessary step when using a small dataset as this one which you have been provided. As such, if you haven't already, implement a data augmentation setup.\n",
    "\n",
    "**Warning: ⏰ This process took nearly 4 hours to run on a relatively new macbook pro. As such, it is recommended that you simply code the setup and compare to the solution branch, or set the process to run overnight if you do choose to actually run the code.** "
   ]
  },
  {
   "cell_type": "code",
   "execution_count": 7,
   "metadata": {},
   "outputs": [
    {
     "name": "stdout",
     "output_type": "stream",
     "text": [
      "Found 1738 images belonging to 2 classes.\n",
      "Found 4 images belonging to 2 classes.\n",
      "Epoch 1/100\n",
      "100/100 [==============================] - 74s 744ms/step - loss: 0.6675 - accuracy: 0.7829 - val_loss: 0.6925 - val_accuracy: 0.7500\n",
      "Epoch 2/100\n",
      "100/100 [==============================] - 71s 707ms/step - loss: 0.3682 - accuracy: 0.8435 - val_loss: 1.2506 - val_accuracy: 0.5000\n",
      "Epoch 3/100\n",
      "100/100 [==============================] - 69s 692ms/step - loss: 0.3367 - accuracy: 0.8546 - val_loss: 1.7919 - val_accuracy: 0.5000\n",
      "Epoch 4/100\n",
      "100/100 [==============================] - 69s 688ms/step - loss: 0.2872 - accuracy: 0.8781 - val_loss: 1.9442 - val_accuracy: 0.5000\n",
      "Epoch 5/100\n",
      "100/100 [==============================] - 70s 698ms/step - loss: 0.2779 - accuracy: 0.8829 - val_loss: 1.4335 - val_accuracy: 0.5000\n",
      "Epoch 6/100\n",
      "100/100 [==============================] - 69s 689ms/step - loss: 0.2653 - accuracy: 0.8880 - val_loss: 2.2227 - val_accuracy: 0.5000\n",
      "Epoch 7/100\n",
      "100/100 [==============================] - 72s 720ms/step - loss: 0.2587 - accuracy: 0.8931 - val_loss: 2.1136 - val_accuracy: 0.5000\n",
      "Epoch 8/100\n",
      "100/100 [==============================] - 70s 702ms/step - loss: 0.2396 - accuracy: 0.9005 - val_loss: 2.2534 - val_accuracy: 0.5000\n",
      "Epoch 9/100\n",
      "100/100 [==============================] - 70s 699ms/step - loss: 0.2281 - accuracy: 0.9034 - val_loss: 1.5437 - val_accuracy: 0.5000\n",
      "Epoch 10/100\n",
      "100/100 [==============================] - 69s 686ms/step - loss: 0.2210 - accuracy: 0.9091 - val_loss: 2.5737 - val_accuracy: 0.5000\n",
      "Epoch 11/100\n",
      "100/100 [==============================] - 69s 692ms/step - loss: 0.2145 - accuracy: 0.9135 - val_loss: 2.9753 - val_accuracy: 0.5000\n",
      "Epoch 12/100\n",
      "100/100 [==============================] - 69s 691ms/step - loss: 0.2035 - accuracy: 0.9217 - val_loss: 3.0395 - val_accuracy: 0.5000\n",
      "Epoch 13/100\n",
      "100/100 [==============================] - 72s 716ms/step - loss: 0.2054 - accuracy: 0.9176 - val_loss: 2.6994 - val_accuracy: 0.5000\n",
      "Epoch 14/100\n",
      "100/100 [==============================] - 68s 678ms/step - loss: 0.1966 - accuracy: 0.9161 - val_loss: 3.2092 - val_accuracy: 0.5000\n",
      "Epoch 15/100\n",
      "100/100 [==============================] - 70s 698ms/step - loss: 0.1857 - accuracy: 0.9273 - val_loss: 1.5904 - val_accuracy: 0.5000\n",
      "Epoch 16/100\n",
      "100/100 [==============================] - 69s 693ms/step - loss: 0.1977 - accuracy: 0.9189 - val_loss: 2.4032 - val_accuracy: 0.5000\n",
      "Epoch 17/100\n",
      "100/100 [==============================] - 69s 685ms/step - loss: 0.1933 - accuracy: 0.9205 - val_loss: 2.4928 - val_accuracy: 0.5000\n",
      "Epoch 18/100\n",
      "100/100 [==============================] - 72s 719ms/step - loss: 0.1740 - accuracy: 0.9354 - val_loss: 2.3930 - val_accuracy: 0.5000\n",
      "Epoch 19/100\n",
      "100/100 [==============================] - 70s 701ms/step - loss: 0.1785 - accuracy: 0.9293 - val_loss: 2.8529 - val_accuracy: 0.5000\n",
      "Epoch 20/100\n",
      "100/100 [==============================] - 70s 697ms/step - loss: 0.1790 - accuracy: 0.9264 - val_loss: 2.5417 - val_accuracy: 0.5000\n",
      "Epoch 21/100\n",
      "100/100 [==============================] - 69s 690ms/step - loss: 0.1767 - accuracy: 0.9312 - val_loss: 1.3493 - val_accuracy: 0.5000\n",
      "Epoch 22/100\n",
      "100/100 [==============================] - 69s 691ms/step - loss: 0.1769 - accuracy: 0.9306 - val_loss: 1.3515 - val_accuracy: 0.5000\n",
      "Epoch 23/100\n",
      "100/100 [==============================] - 69s 693ms/step - loss: 0.1678 - accuracy: 0.9309 - val_loss: 2.0066 - val_accuracy: 0.5000\n",
      "Epoch 24/100\n",
      "100/100 [==============================] - 71s 710ms/step - loss: 0.1620 - accuracy: 0.9388 - val_loss: 1.7264 - val_accuracy: 0.5000\n",
      "Epoch 25/100\n",
      "100/100 [==============================] - 69s 689ms/step - loss: 0.1582 - accuracy: 0.9369 - val_loss: 2.9396 - val_accuracy: 0.5000\n",
      "Epoch 26/100\n",
      "100/100 [==============================] - 70s 697ms/step - loss: 0.1519 - accuracy: 0.9396 - val_loss: 2.2217 - val_accuracy: 0.5000\n",
      "Epoch 27/100\n",
      "100/100 [==============================] - 70s 695ms/step - loss: 0.1645 - accuracy: 0.9357 - val_loss: 1.9692 - val_accuracy: 0.5000\n",
      "Epoch 28/100\n",
      "100/100 [==============================] - 68s 684ms/step - loss: 0.1544 - accuracy: 0.9398 - val_loss: 1.4754 - val_accuracy: 0.5000\n",
      "Epoch 29/100\n",
      "100/100 [==============================] - 72s 722ms/step - loss: 0.1599 - accuracy: 0.9350 - val_loss: 2.4457 - val_accuracy: 0.5000\n",
      "Epoch 30/100\n",
      "100/100 [==============================] - 70s 701ms/step - loss: 0.1541 - accuracy: 0.9376 - val_loss: 1.5541 - val_accuracy: 0.5000\n",
      "Epoch 31/100\n",
      "100/100 [==============================] - 69s 694ms/step - loss: 0.1518 - accuracy: 0.9420 - val_loss: 0.9192 - val_accuracy: 0.5000\n",
      "Epoch 32/100\n",
      "100/100 [==============================] - 68s 685ms/step - loss: 0.1373 - accuracy: 0.9487 - val_loss: 1.5489 - val_accuracy: 0.5000\n",
      "Epoch 33/100\n",
      "100/100 [==============================] - 70s 698ms/step - loss: 0.1472 - accuracy: 0.9396 - val_loss: 1.7088 - val_accuracy: 0.5000\n",
      "Epoch 34/100\n",
      "100/100 [==============================] - 69s 693ms/step - loss: 0.1344 - accuracy: 0.9474 - val_loss: 2.6898 - val_accuracy: 0.5000\n",
      "Epoch 35/100\n",
      "100/100 [==============================] - 71s 709ms/step - loss: 0.1301 - accuracy: 0.9480 - val_loss: 1.6429 - val_accuracy: 0.5000\n",
      "Epoch 36/100\n",
      "100/100 [==============================] - 70s 697ms/step - loss: 0.1304 - accuracy: 0.9440 - val_loss: 1.1568 - val_accuracy: 0.5000\n",
      "Epoch 37/100\n",
      "100/100 [==============================] - 69s 692ms/step - loss: 0.1419 - accuracy: 0.9398 - val_loss: 1.6173 - val_accuracy: 0.5000\n",
      "Epoch 38/100\n",
      "100/100 [==============================] - 69s 690ms/step - loss: 0.1371 - accuracy: 0.9455 - val_loss: 2.6296 - val_accuracy: 0.5000\n",
      "Epoch 39/100\n",
      "100/100 [==============================] - 68s 685ms/step - loss: 0.1429 - accuracy: 0.9465 - val_loss: 3.4017 - val_accuracy: 0.5000\n",
      "Epoch 40/100\n",
      "100/100 [==============================] - 72s 725ms/step - loss: 0.1397 - accuracy: 0.9423 - val_loss: 2.5527 - val_accuracy: 0.5000\n",
      "Epoch 41/100\n",
      "100/100 [==============================] - 70s 703ms/step - loss: 0.1416 - accuracy: 0.9471 - val_loss: 3.1881 - val_accuracy: 0.5000\n",
      "Epoch 42/100\n",
      "100/100 [==============================] - 69s 688ms/step - loss: 0.1301 - accuracy: 0.9525 - val_loss: 1.9192 - val_accuracy: 0.5000\n",
      "Epoch 43/100\n",
      "100/100 [==============================] - 69s 694ms/step - loss: 0.1317 - accuracy: 0.9461 - val_loss: 1.0255 - val_accuracy: 0.5000\n",
      "Epoch 44/100\n",
      "100/100 [==============================] - 70s 696ms/step - loss: 0.1268 - accuracy: 0.9528 - val_loss: 1.3102 - val_accuracy: 0.5000\n",
      "Epoch 45/100\n",
      "100/100 [==============================] - 69s 692ms/step - loss: 0.1166 - accuracy: 0.9525 - val_loss: 0.9702 - val_accuracy: 0.5000\n",
      "Epoch 46/100\n",
      "100/100 [==============================] - 72s 716ms/step - loss: 0.1341 - accuracy: 0.9465 - val_loss: 0.5993 - val_accuracy: 0.5000\n",
      "Epoch 47/100\n",
      "100/100 [==============================] - 69s 687ms/step - loss: 0.1218 - accuracy: 0.9512 - val_loss: 1.9261 - val_accuracy: 0.5000\n",
      "Epoch 48/100\n",
      "100/100 [==============================] - 69s 693ms/step - loss: 0.1314 - accuracy: 0.9487 - val_loss: 0.9923 - val_accuracy: 0.5000\n",
      "Epoch 49/100\n",
      "100/100 [==============================] - 70s 698ms/step - loss: 0.1332 - accuracy: 0.9468 - val_loss: 1.9876 - val_accuracy: 0.5000\n",
      "Epoch 50/100\n",
      "100/100 [==============================] - 69s 693ms/step - loss: 0.1257 - accuracy: 0.9515 - val_loss: 1.6059 - val_accuracy: 0.5000\n",
      "Epoch 51/100\n",
      "100/100 [==============================] - 73s 726ms/step - loss: 0.1279 - accuracy: 0.9506 - val_loss: 1.5898 - val_accuracy: 0.5000\n",
      "Epoch 52/100\n",
      "100/100 [==============================] - 71s 707ms/step - loss: 0.1172 - accuracy: 0.9550 - val_loss: 1.2748 - val_accuracy: 0.5000\n",
      "Epoch 53/100\n",
      "100/100 [==============================] - 69s 694ms/step - loss: 0.1229 - accuracy: 0.9534 - val_loss: 1.8286 - val_accuracy: 0.5000\n",
      "Epoch 54/100\n",
      "100/100 [==============================] - 69s 691ms/step - loss: 0.1195 - accuracy: 0.9528 - val_loss: 2.6993 - val_accuracy: 0.5000\n",
      "Epoch 55/100\n",
      "100/100 [==============================] - 69s 690ms/step - loss: 0.1203 - accuracy: 0.9547 - val_loss: 0.8016 - val_accuracy: 0.5000\n",
      "Epoch 56/100\n"
     ]
    },
    {
     "name": "stdout",
     "output_type": "stream",
     "text": [
      "100/100 [==============================] - 70s 698ms/step - loss: 0.1120 - accuracy: 0.9572 - val_loss: 0.9784 - val_accuracy: 0.5000\n",
      "Epoch 57/100\n",
      "100/100 [==============================] - 71s 709ms/step - loss: 0.1240 - accuracy: 0.9534 - val_loss: 1.1980 - val_accuracy: 0.5000\n",
      "Epoch 58/100\n",
      "100/100 [==============================] - 69s 694ms/step - loss: 0.1181 - accuracy: 0.9556 - val_loss: 1.1784 - val_accuracy: 0.5000\n",
      "Epoch 59/100\n",
      "100/100 [==============================] - 69s 688ms/step - loss: 0.1190 - accuracy: 0.9525 - val_loss: 1.1984 - val_accuracy: 0.5000\n",
      "Epoch 60/100\n",
      "100/100 [==============================] - 70s 696ms/step - loss: 0.1175 - accuracy: 0.9560 - val_loss: 3.0031 - val_accuracy: 0.5000\n",
      "Epoch 61/100\n",
      "100/100 [==============================] - 69s 689ms/step - loss: 0.1125 - accuracy: 0.9544 - val_loss: 1.3231 - val_accuracy: 0.5000\n",
      "Epoch 62/100\n",
      "100/100 [==============================] - 72s 722ms/step - loss: 0.1008 - accuracy: 0.9598 - val_loss: 1.5376 - val_accuracy: 0.5000\n",
      "Epoch 63/100\n",
      "100/100 [==============================] - 70s 699ms/step - loss: 0.1137 - accuracy: 0.9598 - val_loss: 1.3150 - val_accuracy: 0.5000\n",
      "Epoch 64/100\n",
      "100/100 [==============================] - 70s 695ms/step - loss: 0.1015 - accuracy: 0.9610 - val_loss: 1.2878 - val_accuracy: 0.5000\n",
      "Epoch 65/100\n",
      "100/100 [==============================] - 69s 686ms/step - loss: 0.1256 - accuracy: 0.9537 - val_loss: 1.3473 - val_accuracy: 0.5000\n",
      "Epoch 66/100\n",
      "100/100 [==============================] - 70s 696ms/step - loss: 0.1111 - accuracy: 0.9597 - val_loss: 0.8725 - val_accuracy: 0.5000\n",
      "Epoch 67/100\n",
      "100/100 [==============================] - 69s 693ms/step - loss: 0.1176 - accuracy: 0.9525 - val_loss: 0.7610 - val_accuracy: 0.5000\n",
      "Epoch 68/100\n",
      "100/100 [==============================] - 71s 713ms/step - loss: 0.1073 - accuracy: 0.9575 - val_loss: 1.0841 - val_accuracy: 0.5000\n",
      "Epoch 69/100\n",
      "100/100 [==============================] - 69s 687ms/step - loss: 0.1009 - accuracy: 0.9604 - val_loss: 1.9403 - val_accuracy: 0.5000\n",
      "Epoch 70/100\n",
      "100/100 [==============================] - 70s 704ms/step - loss: 0.1058 - accuracy: 0.9597 - val_loss: 1.2054 - val_accuracy: 0.5000\n",
      "Epoch 71/100\n",
      "100/100 [==============================] - 70s 700ms/step - loss: 0.1060 - accuracy: 0.9610 - val_loss: 1.0001 - val_accuracy: 0.5000\n",
      "Epoch 72/100\n",
      "100/100 [==============================] - 69s 690ms/step - loss: 0.1089 - accuracy: 0.9560 - val_loss: 1.8183 - val_accuracy: 0.5000\n",
      "Epoch 73/100\n",
      "100/100 [==============================] - 73s 732ms/step - loss: 0.0986 - accuracy: 0.9604 - val_loss: 1.6233 - val_accuracy: 0.5000\n",
      "Epoch 74/100\n",
      "100/100 [==============================] - 72s 716ms/step - loss: 0.0934 - accuracy: 0.9636 - val_loss: 1.4666 - val_accuracy: 0.5000\n",
      "Epoch 75/100\n",
      "100/100 [==============================] - 68s 682ms/step - loss: 0.1060 - accuracy: 0.9633 - val_loss: 1.3154 - val_accuracy: 0.5000\n",
      "Epoch 76/100\n",
      "100/100 [==============================] - 69s 688ms/step - loss: 0.1018 - accuracy: 0.9613 - val_loss: 1.1705 - val_accuracy: 0.5000\n",
      "Epoch 77/100\n",
      "100/100 [==============================] - 69s 692ms/step - loss: 0.1127 - accuracy: 0.9544 - val_loss: 1.1298 - val_accuracy: 0.5000\n",
      "Epoch 78/100\n",
      "100/100 [==============================] - 69s 689ms/step - loss: 0.0999 - accuracy: 0.9632 - val_loss: 1.5334 - val_accuracy: 0.5000\n",
      "Epoch 79/100\n",
      "100/100 [==============================] - 71s 706ms/step - loss: 0.1020 - accuracy: 0.9604 - val_loss: 1.2428 - val_accuracy: 0.5000\n",
      "Epoch 80/100\n",
      "100/100 [==============================] - 68s 684ms/step - loss: 0.0989 - accuracy: 0.9622 - val_loss: 0.8890 - val_accuracy: 0.5000\n",
      "Epoch 81/100\n",
      "100/100 [==============================] - 70s 702ms/step - loss: 0.1013 - accuracy: 0.9617 - val_loss: 1.3729 - val_accuracy: 0.5000\n",
      "Epoch 82/100\n",
      "100/100 [==============================] - 69s 687ms/step - loss: 0.1080 - accuracy: 0.9572 - val_loss: 0.6774 - val_accuracy: 0.5000\n",
      "Epoch 83/100\n",
      "100/100 [==============================] - 69s 687ms/step - loss: 0.1028 - accuracy: 0.9600 - val_loss: 1.6078 - val_accuracy: 0.5000\n",
      "Epoch 84/100\n",
      "100/100 [==============================] - 74s 744ms/step - loss: 0.1097 - accuracy: 0.9579 - val_loss: 1.0539 - val_accuracy: 0.5000\n",
      "Epoch 85/100\n",
      "100/100 [==============================] - 73s 732ms/step - loss: 0.0990 - accuracy: 0.9632 - val_loss: 1.3285 - val_accuracy: 0.5000\n",
      "Epoch 86/100\n",
      "100/100 [==============================] - 69s 690ms/step - loss: 0.0982 - accuracy: 0.9620 - val_loss: 1.4843 - val_accuracy: 0.5000\n",
      "Epoch 87/100\n",
      "100/100 [==============================] - 71s 706ms/step - loss: 0.0968 - accuracy: 0.9651 - val_loss: 1.1769 - val_accuracy: 0.5000\n",
      "Epoch 88/100\n",
      "100/100 [==============================] - 70s 695ms/step - loss: 0.1017 - accuracy: 0.9601 - val_loss: 1.3425 - val_accuracy: 0.5000\n",
      "Epoch 89/100\n",
      "100/100 [==============================] - 69s 690ms/step - loss: 0.0978 - accuracy: 0.9632 - val_loss: 0.9276 - val_accuracy: 0.5000\n",
      "Epoch 90/100\n",
      "100/100 [==============================] - 70s 703ms/step - loss: 0.0900 - accuracy: 0.9670 - val_loss: 1.8768 - val_accuracy: 0.5000\n",
      "Epoch 91/100\n",
      "100/100 [==============================] - 69s 688ms/step - loss: 0.0927 - accuracy: 0.9594 - val_loss: 2.5479 - val_accuracy: 0.5000\n",
      "Epoch 92/100\n",
      "100/100 [==============================] - 69s 695ms/step - loss: 0.0900 - accuracy: 0.9657 - val_loss: 1.7685 - val_accuracy: 0.5000\n",
      "Epoch 93/100\n",
      "100/100 [==============================] - 69s 691ms/step - loss: 0.1002 - accuracy: 0.9610 - val_loss: 1.3131 - val_accuracy: 0.5000\n",
      "Epoch 94/100\n",
      "100/100 [==============================] - 68s 682ms/step - loss: 0.0992 - accuracy: 0.9629 - val_loss: 1.7013 - val_accuracy: 0.5000\n",
      "Epoch 95/100\n",
      "100/100 [==============================] - 72s 718ms/step - loss: 0.0951 - accuracy: 0.9651 - val_loss: 1.1279 - val_accuracy: 0.5000\n",
      "Epoch 96/100\n",
      "100/100 [==============================] - 70s 695ms/step - loss: 0.0876 - accuracy: 0.9648 - val_loss: 0.9464 - val_accuracy: 0.5000\n",
      "Epoch 97/100\n",
      "100/100 [==============================] - 69s 692ms/step - loss: 0.0938 - accuracy: 0.9676 - val_loss: 0.8115 - val_accuracy: 0.5000\n",
      "Epoch 98/100\n",
      "100/100 [==============================] - 69s 687ms/step - loss: 0.0879 - accuracy: 0.9639 - val_loss: 1.3271 - val_accuracy: 0.5000\n",
      "Epoch 99/100\n",
      "100/100 [==============================] - 69s 688ms/step - loss: 0.0849 - accuracy: 0.9670 - val_loss: 1.2119 - val_accuracy: 0.5000\n",
      "Epoch 100/100\n",
      "100/100 [==============================] - 69s 692ms/step - loss: 0.1075 - accuracy: 0.9629 - val_loss: 0.9409 - val_accuracy: 0.5000\n"
     ]
    },
    {
     "data": {
      "image/png": "[encoded data removed]",
      "text/plain": [
       "<Figure size 432x288 with 1 Axes>"
      ]
     },
     "metadata": {
      "needs_background": "light"
     },
     "output_type": "display_data"
    },
    {
     "data": {
      "image/png": "[encoded data removed]",
      "text/plain": [
       "<Figure size 432x288 with 1 Axes>"
      ]
     },
     "metadata": {
      "needs_background": "light"
     },
     "output_type": "display_data"
    },
    {
     "name": "stdout",
     "output_type": "stream",
     "text": [
      "1:56:22.264204\n"
     ]
    }
   ],
   "source": [
    "# Add data augmentation to the model setup and set the model to train; \n",
    "# See warnings above if you intend to run this block of code \n",
    "# ⏰ This cell may take several hours to run\n",
    "a = datetime.datetime.now()\n",
    "\n",
    "idg_train = ImageDataGenerator(rescale=1./255, \n",
    "                               rotation_range=40, \n",
    "                               width_shift_range=0.2, \n",
    "                               height_shift_range=0.2, \n",
    "                               shear_range=0.3, \n",
    "                               zoom_range=0.1, \n",
    "                               horizontal_flip=False)\n",
    "idg_test = ImageDataGenerator(rescale=1./255)\n",
    "\n",
    "train_gen = idg_train.flow_from_directory(train_dir, \n",
    "                                          target_size=(150, 150), \n",
    "                                          batch_size=32, \n",
    "                                          class_mode=\"binary\")\n",
    "\n",
    "test_gen = idg_test.flow_from_directory(validation_dir, \n",
    "                                        target_size=(150, 150), \n",
    "                                        batch_size=32, \n",
    "                                        class_mode=\"binary\")\n",
    "\n",
    "history = model.fit_generator(train_gen, \n",
    "                              steps_per_epoch=100, \n",
    "                              epochs=100, \n",
    "                              validation_data=test_gen, \n",
    "                              validation_steps=50)\n",
    "\n",
    "h = history.history\n",
    "acc = h[\"accuracy\"]\n",
    "val_acc = h[\"val_accuracy\"]\n",
    "loss = h[\"loss\"]\n",
    "val_loss = h[\"val_loss\"]\n",
    "\n",
    "plt.plot(acc)\n",
    "plt.plot(val_acc)\n",
    "plt.legend(['Train set', 'Validation set'])\n",
    "plt.xlabel(\"Epochs\")\n",
    "plt.ylabel(\"Accuracy\")\n",
    "plt.show();\n",
    "\n",
    "plt.plot(loss)\n",
    "plt.plot(val_loss)\n",
    "plt.legend(['Train set', 'Validation set'])\n",
    "plt.xlabel(\"Epochs\")\n",
    "plt.ylabel(\"Loss\")\n",
    "plt.show();\n",
    "\n",
    "z = datetime.datetime.now()\n",
    "elapsed = z - a\n",
    "print(elapsed)"
   ]
  },
  {
   "cell_type": "markdown",
   "metadata": {},
   "source": [
    "Save the model for future reference.  "
   ]
  },
  {
   "cell_type": "code",
   "execution_count": 8,
   "metadata": {},
   "outputs": [],
   "source": [
    "# Save the model \n",
    "model.save(\"chest_xray_downsampled_with_augmentation_data.h5\")"
   ]
  },
  {
   "cell_type": "markdown",
   "metadata": {},
   "source": [
    "## Final Evaluation\n",
    "\n",
    "Now use the test set to perform a final evaluation on your model of choice. "
   ]
  },
  {
   "cell_type": "code",
   "execution_count": 9,
   "metadata": {},
   "outputs": [
    {
     "name": "stdout",
     "output_type": "stream",
     "text": [
      "Found 208 images belonging to 2 classes.\n",
      "Test Accuracy: 0.9422268867492676\n"
     ]
    }
   ],
   "source": [
    "# Your code here \n",
    "# Perform a final evaluation using the test set\n",
    "test_gen = idg_test.flow_from_directory(test_dir, \n",
    "                                        target_size=(150, 150), \n",
    "                                        batch_size=20, \n",
    "                                        class_mode=\"binary\")\n",
    "test_loss, test_acc = model.evaluate_generator(test_gen, steps=50)\n",
    "print(\"Test Accuracy:\", test_acc)"
   ]
  },
  {
   "cell_type": "markdown",
   "metadata": {},
   "source": [
    "## Level Up (Optional): Adding More Data to the Model\n",
    "\n",
    "As discussed, the current dataset we worked with is a subset of a dataset hosted on Kaggle. Increasing the data that we use to train the model will result in additional performance gains but will also result in longer training times and be more resource intensive.   \n",
    "\n",
    "⏰ It is estimated that training on the full dataset will take approximately 4 hours (and potentially significantly longer) depending on your computer's specifications.\n",
    "\n",
    "In order to test the impact of training on the full dataset, start by downloading the data from Kaggle here: https://www.kaggle.com/paultimothymooney/chest-xray-pneumonia.   "
   ]
  },
  {
   "cell_type": "code",
   "execution_count": null,
   "metadata": {},
   "outputs": [],
   "source": [
    "# Optional extension; Your code here\n",
    "# ⏰ This cell may take several hours to run"
   ]
  },
  {
   "cell_type": "markdown",
   "metadata": {},
   "source": [
    "## Summary\n",
    "\n",
    "Well done! In this lab, you practice building your own CNN for image recognition which drastically outperformed our previous attempts using a standard deep learning model alone. In the upcoming sections, we'll continue to investigate further techniques associated with CNNs including visualizing the representations they learn and techniques to further bolster their performance when we have limited training data such as here."
   ]
  }
 ],
 "metadata": {
  "kernelspec": {
   "display_name": "Python 3",
   "language": "python",
   "name": "python3"
  },
  "language_info": {
   "codemirror_mode": {
    "name": "ipython",
    "version": 3
   },
   "file_extension": ".py",
   "mimetype": "text/x-python",
   "name": "python",
   "nbconvert_exporter": "python",
   "pygments_lexer": "ipython3",
   "version": "3.7.4"
  },
  "toc": {
   "base_numbering": 1,
   "nav_menu": {},
   "number_sections": true,
   "sideBar": true,
   "skip_h1_title": false,
   "title_cell": "Table of Contents",
   "title_sidebar": "Contents",
   "toc_cell": false,
   "toc_position": {},
   "toc_section_display": true,
   "toc_window_display": false
  }
 },
 "nbformat": 4,
 "nbformat_minor": 2
}
